{
 "cells": [
  {
   "cell_type": "code",
   "execution_count": 38,
   "id": "dc04cd63",
   "metadata": {},
   "outputs": [],
   "source": [
    "import pandas as pd"
   ]
  },
  {
   "cell_type": "code",
   "execution_count": 54,
   "id": "712951de",
   "metadata": {},
   "outputs": [],
   "source": [
    "data = pd.read_pickle(r\"C:\\Users\\User\\bd24_project_m8_b\\volumes\\kafka-producer_volume\\taxi_data.pkl\")"
   ]
  },
  {
   "cell_type": "code",
   "execution_count": 55,
   "id": "90e799ba",
   "metadata": {},
   "outputs": [
    {
     "data": {
      "text/plain": [
       "(17673320, 4)"
      ]
     },
     "execution_count": 55,
     "metadata": {},
     "output_type": "execute_result"
    }
   ],
   "source": [
    "data.shape"
   ]
  },
  {
   "cell_type": "code",
   "execution_count": 59,
   "id": "a895781e",
   "metadata": {},
   "outputs": [
    {
     "data": {
      "text/plain": [
       "(16335823, 4)"
      ]
     },
     "execution_count": 59,
     "metadata": {},
     "output_type": "execute_result"
    }
   ],
   "source": [
    "data.drop_duplicates(inplace=True)\n",
    "data.shape"
   ]
  },
  {
   "cell_type": "code",
   "execution_count": 60,
   "id": "6abe8884",
   "metadata": {},
   "outputs": [],
   "source": [
    "end_of_trip = (data['latitude'] == -1) & (data['longitude'] == -1)\n",
    "data_filtered = data[~end_of_trip]"
   ]
  },
  {
   "cell_type": "code",
   "execution_count": 65,
   "id": "8ee2f26c",
   "metadata": {},
   "outputs": [
    {
     "data": {
      "text/plain": [
       "(10336, 4)"
      ]
     },
     "execution_count": 65,
     "metadata": {},
     "output_type": "execute_result"
    }
   ],
   "source": [
    "data[end_of_trip].shape"
   ]
  },
  {
   "cell_type": "code",
   "execution_count": 61,
   "id": "25d29820",
   "metadata": {},
   "outputs": [],
   "source": [
    "duplicates = data_filtered[data_filtered.duplicated(subset=['taxi_id', 'timestamp'], keep=False)]"
   ]
  },
  {
   "cell_type": "code",
   "execution_count": 68,
   "id": "49f641bb",
   "metadata": {},
   "outputs": [
    {
     "data": {
      "text/plain": [
       "6275    204\n",
       "3557    130\n",
       "3579    110\n",
       "3015    106\n",
       "9754     80\n",
       "       ... \n",
       "262       2\n",
       "5906      2\n",
       "6088      2\n",
       "3039      2\n",
       "9190      2\n",
       "Name: taxi_id, Length: 1876, dtype: int64"
      ]
     },
     "execution_count": 68,
     "metadata": {},
     "output_type": "execute_result"
    }
   ],
   "source": [
    "duplicates.taxi_id.value_counts()"
   ]
  },
  {
   "cell_type": "code",
   "execution_count": 71,
   "id": "1eb44269",
   "metadata": {},
   "outputs": [
    {
     "data": {
      "text/plain": [
       "2008-02-02 13:44:33    2\n",
       "2008-02-05 18:44:48    2\n",
       "2008-02-06 15:05:38    2\n",
       "2008-02-06 14:34:29    2\n",
       "2008-02-06 14:17:44    2\n",
       "                      ..\n",
       "2008-02-04 14:13:07    2\n",
       "2008-02-04 13:32:03    2\n",
       "2008-02-04 12:52:06    2\n",
       "2008-02-04 12:30:47    2\n",
       "2008-02-08 17:14:31    2\n",
       "Name: timestamp, Length: 102, dtype: int64"
      ]
     },
     "execution_count": 71,
     "metadata": {},
     "output_type": "execute_result"
    }
   ],
   "source": [
    "duplicates[duplicates['taxi_id']==6275].timestamp.value_counts()"
   ]
  },
  {
   "cell_type": "code",
   "execution_count": 5,
   "id": "1bf8844a",
   "metadata": {},
   "outputs": [
    {
     "data": {
      "text/plain": [
       "(16335823, 4)"
      ]
     },
     "execution_count": 5,
     "metadata": {},
     "output_type": "execute_result"
    }
   ],
   "source": [
    "data.shape"
   ]
  },
  {
   "cell_type": "code",
   "execution_count": 6,
   "id": "830f4a78",
   "metadata": {},
   "outputs": [
    {
     "data": {
      "text/html": [
       "<div>\n",
       "<style scoped>\n",
       "    .dataframe tbody tr th:only-of-type {\n",
       "        vertical-align: middle;\n",
       "    }\n",
       "\n",
       "    .dataframe tbody tr th {\n",
       "        vertical-align: top;\n",
       "    }\n",
       "\n",
       "    .dataframe thead th {\n",
       "        text-align: right;\n",
       "    }\n",
       "</style>\n",
       "<table border=\"1\" class=\"dataframe\">\n",
       "  <thead>\n",
       "    <tr style=\"text-align: right;\">\n",
       "      <th></th>\n",
       "      <th>taxi_id</th>\n",
       "      <th>timestamp</th>\n",
       "      <th>longitude</th>\n",
       "      <th>latitude</th>\n",
       "    </tr>\n",
       "  </thead>\n",
       "  <tbody>\n",
       "    <tr>\n",
       "      <th>10329518</th>\n",
       "      <td>6275</td>\n",
       "      <td>2008-02-02 13:30:44</td>\n",
       "      <td>116.36838</td>\n",
       "      <td>39.90484</td>\n",
       "    </tr>\n",
       "    <tr>\n",
       "      <th>4120760</th>\n",
       "      <td>3015</td>\n",
       "      <td>2008-02-02 13:30:44</td>\n",
       "      <td>116.41036</td>\n",
       "      <td>39.89171</td>\n",
       "    </tr>\n",
       "    <tr>\n",
       "      <th>5236504</th>\n",
       "      <td>3579</td>\n",
       "      <td>2008-02-02 13:30:44</td>\n",
       "      <td>116.40048</td>\n",
       "      <td>39.90350</td>\n",
       "    </tr>\n",
       "    <tr>\n",
       "      <th>13109925</th>\n",
       "      <td>7659</td>\n",
       "      <td>2008-02-02 13:30:45</td>\n",
       "      <td>116.35203</td>\n",
       "      <td>39.84086</td>\n",
       "    </tr>\n",
       "    <tr>\n",
       "      <th>4120761</th>\n",
       "      <td>3015</td>\n",
       "      <td>2008-02-02 13:30:45</td>\n",
       "      <td>116.41028</td>\n",
       "      <td>39.89170</td>\n",
       "    </tr>\n",
       "  </tbody>\n",
       "</table>\n",
       "</div>"
      ],
      "text/plain": [
       "          taxi_id           timestamp  longitude  latitude\n",
       "10329518     6275 2008-02-02 13:30:44  116.36838  39.90484\n",
       "4120760      3015 2008-02-02 13:30:44  116.41036  39.89171\n",
       "5236504      3579 2008-02-02 13:30:44  116.40048  39.90350\n",
       "13109925     7659 2008-02-02 13:30:45  116.35203  39.84086\n",
       "4120761      3015 2008-02-02 13:30:45  116.41028  39.89170"
      ]
     },
     "execution_count": 6,
     "metadata": {},
     "output_type": "execute_result"
    }
   ],
   "source": [
    "data.head(5)"
   ]
  },
  {
   "cell_type": "code",
   "execution_count": 7,
   "id": "8831f15a",
   "metadata": {},
   "outputs": [],
   "source": [
    "df = data.copy()"
   ]
  },
  {
   "cell_type": "code",
   "execution_count": 8,
   "id": "8258e2e3",
   "metadata": {},
   "outputs": [],
   "source": [
    "import pandas as pd\n",
    "from math import radians, sin, cos, sqrt, asin\n",
    "\n",
    "# Define haversine formula\n",
    "def haversine(lat1, lon1, lat2, lon2):\n",
    "    radius_earth = 6372.8\n",
    "\n",
    "    dlat = radians(lat2 - lat1)\n",
    "    dlon = radians(lon2 - lon1)\n",
    "    lat1 = radians(lat1)\n",
    "    lat2 = radians(lat2)\n",
    "\n",
    "    a = sin(dlat / 2) ** 2 + cos(lat1) * cos(lat2) * sin(dlon / 2) ** 2\n",
    "    c = 2 * asin(sqrt(a))\n",
    "\n",
    "    return radius_earth * c\n",
    "\n",
    "# Forbidden City coordinates\n",
    "forbidden_city_coords = (39.9163447, 116.3971556)\n",
    "\n",
    "df['distance_from_forbidden_city'] = df.apply(lambda row: haversine(forbidden_city_coords[0], forbidden_city_coords[1], row['latitude'], row['longitude']), axis=1)\n",
    "df_filtered = df[df['distance_from_forbidden_city'] <= 15]"
   ]
  },
  {
   "cell_type": "code",
   "execution_count": 9,
   "id": "8948a950",
   "metadata": {},
   "outputs": [
    {
     "data": {
      "text/plain": [
       "14.999994003106663"
      ]
     },
     "execution_count": 9,
     "metadata": {},
     "output_type": "execute_result"
    }
   ],
   "source": [
    "df_filtered.distance_from_forbidden_city.max()"
   ]
  },
  {
   "cell_type": "code",
   "execution_count": 10,
   "id": "6e98b452",
   "metadata": {},
   "outputs": [
    {
     "data": {
      "text/plain": [
       "(11509944, 5)"
      ]
     },
     "execution_count": 10,
     "metadata": {},
     "output_type": "execute_result"
    }
   ],
   "source": [
    "df_filtered.shape"
   ]
  },
  {
   "cell_type": "code",
   "execution_count": 11,
   "id": "f93cae19",
   "metadata": {},
   "outputs": [
    {
     "name": "stderr",
     "output_type": "stream",
     "text": [
      "/var/folders/7d/vrcg6w813475mlvdzzdy_nkw0000gn/T/ipykernel_968/3715979219.py:2: SettingWithCopyWarning: \n",
      "A value is trying to be set on a copy of a slice from a DataFrame.\n",
      "Try using .loc[row_indexer,col_indexer] = value instead\n",
      "\n",
      "See the caveats in the documentation: https://pandas.pydata.org/pandas-docs/stable/user_guide/indexing.html#returning-a-view-versus-a-copy\n",
      "  df_filtered['timestamp'] = pd.to_datetime(df_filtered['timestamp'])\n"
     ]
    }
   ],
   "source": [
    "# Convert timestamp to datetime\n",
    "df_filtered['timestamp'] = pd.to_datetime(df_filtered['timestamp'])\n",
    "\n",
    "# Sort by taxi_id and timestamp\n",
    "df_filtered = df_filtered.sort_values(by=['taxi_id', 'timestamp'])\n",
    "\n",
    "# Calculate distance between consecutive points for each taxi\n",
    "df_filtered['previous_latitude'] = df_filtered.groupby('taxi_id')['latitude'].shift(1)\n",
    "df_filtered['previous_longitude'] = df_filtered.groupby('taxi_id')['longitude'].shift(1)\n",
    "df_filtered['previous_timestamp'] = df_filtered.groupby('taxi_id')['timestamp'].shift(1)\n",
    "\n",
    "# Calculate distance between consecutive points\n",
    "df_filtered['distance_between_points'] = df_filtered.apply(lambda row: haversine(row['latitude'], row['longitude'], row['previous_latitude'], row['previous_longitude']), axis=1)\n",
    "\n",
    "# Define abnormal jumps (customize as needed, here considering > 15 km as abnormal for demonstration)\n",
    "abnormal_jumps = df_filtered[df_filtered['distance_between_points'] > 15]"
   ]
  },
  {
   "cell_type": "code",
   "execution_count": 12,
   "id": "8bb1117c",
   "metadata": {},
   "outputs": [
    {
     "data": {
      "text/plain": [
       "(9076, 9)"
      ]
     },
     "execution_count": 12,
     "metadata": {},
     "output_type": "execute_result"
    }
   ],
   "source": [
    "abnormal_jumps.shape"
   ]
  },
  {
   "cell_type": "code",
   "execution_count": 13,
   "id": "be6d7328",
   "metadata": {},
   "outputs": [
    {
     "data": {
      "text/plain": [
       "29.295733179836752"
      ]
     },
     "execution_count": 13,
     "metadata": {},
     "output_type": "execute_result"
    }
   ],
   "source": [
    "abnormal_jumps.distance_between_points.max()"
   ]
  },
  {
   "cell_type": "code",
   "execution_count": 14,
   "id": "f389f360",
   "metadata": {},
   "outputs": [],
   "source": [
    "# Calculate time difference in hours\n",
    "df_filtered['time_diff_hours'] = df_filtered['timestamp'] - df_filtered['previous_timestamp']\n",
    "df_filtered['time_diff_hours'] = df_filtered['time_diff_hours'].dt.total_seconds() / 3600.0\n",
    "\n",
    "# Calculate speed (km/h)\n",
    "df_filtered['speed'] = df_filtered['distance_between_points'] / df_filtered['time_diff_hours']\n",
    "\n",
    "# Identify instances with speed > 50 km/h\n",
    "high_speed_instances = df_filtered[df_filtered['speed'] > 50]"
   ]
  },
  {
   "cell_type": "code",
   "execution_count": 15,
   "id": "aa04865d",
   "metadata": {},
   "outputs": [
    {
     "data": {
      "text/plain": [
       "(46548, 11)"
      ]
     },
     "execution_count": 15,
     "metadata": {},
     "output_type": "execute_result"
    }
   ],
   "source": [
    "high_speed_instances[high_speed_instances['speed']>150].shape"
   ]
  },
  {
   "cell_type": "code",
   "execution_count": 17,
   "id": "2dfcc293",
   "metadata": {},
   "outputs": [],
   "source": [
    "# Initialize variables to track total distance and results\n",
    "total_distance = 0.0\n",
    "distance_over_time = []\n",
    "\n",
    "# Iterate through each record to calculate real-time total distance traveled\n",
    "for i in range(1, len(df_filtered)):\n",
    "    # Current and previous record\n",
    "    current = df_filtered.iloc[i]\n",
    "    previous = df_filtered.iloc[i - 1]\n",
    "    \n",
    "    # Check if the same taxi and consecutive records\n",
    "    if current['taxi_id'] == previous['taxi_id']:\n",
    "        distance = haversine(current['latitude'], current['longitude'], previous['latitude'], previous['longitude'])\n",
    "        total_distance += distance\n",
    "    \n",
    "    # Track total distance at the current timestamp\n",
    "    distance_over_time.append((current['timestamp'], total_distance))\n",
    "\n",
    "# Convert to DataFrame for better visualization\n",
    "distance_over_time_df = pd.DataFrame(distance_over_time, columns=['timestamp', 'total_distance'])"
   ]
  },
  {
   "cell_type": "code",
   "execution_count": null,
   "id": "5baad9ab",
   "metadata": {},
   "outputs": [],
   "source": [
    "# distance_over_time_df.to_csv(\"distance.csv\", index=False)"
   ]
  },
  {
   "cell_type": "code",
   "execution_count": null,
   "id": "e3d3f52e",
   "metadata": {},
   "outputs": [],
   "source": []
  }
 ],
 "metadata": {
  "kernelspec": {
   "display_name": "Python 3 (ipykernel)",
   "language": "python",
   "name": "python3"
  },
  "language_info": {
   "codemirror_mode": {
    "name": "ipython",
    "version": 3
   },
   "file_extension": ".py",
   "mimetype": "text/x-python",
   "name": "python",
   "nbconvert_exporter": "python",
   "pygments_lexer": "ipython3",
   "version": "3.11.4"
  }
 },
 "nbformat": 4,
 "nbformat_minor": 5
}
